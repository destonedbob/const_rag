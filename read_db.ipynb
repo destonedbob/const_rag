{
 "cells": [
  {
   "cell_type": "code",
   "execution_count": 2,
   "metadata": {},
   "outputs": [],
   "source": [
    "from langchain.vectorstores import FAISS\n",
    "from langchain_ollama import OllamaEmbeddings\n",
    "from langchain_community.document_loaders import TextLoader\n",
    "from langchain_core.vectorstores import VectorStoreRetriever\n",
    "from langchain.chains import RetrievalQA\n",
    "from langchain.retrievers import BM25Retriever, EnsembleRetriever\n",
    "import pickle"
   ]
  },
  {
   "cell_type": "code",
   "execution_count": 3,
   "metadata": {},
   "outputs": [],
   "source": [
    "with open(\"documents.pkl\", \"rb\") as f:\n",
    "    documents = pickle.load(f)"
   ]
  },
  {
   "cell_type": "code",
   "execution_count": 4,
   "metadata": {},
   "outputs": [],
   "source": [
    "embed = OllamaEmbeddings(\n",
    "    model=\"mxbai-embed-large\"\n",
    ")"
   ]
  },
  {
   "cell_type": "code",
   "execution_count": 5,
   "metadata": {},
   "outputs": [],
   "source": [
    "vectorstore = FAISS.load_local('faiss_index_constitution', embed, allow_dangerous_deserialization=True)\n",
    "faiss_retriever = vectorstore.as_retriever(search_kwargs={\"k\": 4})\n",
    "bm25_retriever = BM25Retriever.from_documents(documents)\n"
   ]
  },
  {
   "cell_type": "code",
   "execution_count": 6,
   "metadata": {},
   "outputs": [],
   "source": [
    "ensemble_retriever = EnsembleRetriever(retrievers=[bm25_retriever, faiss_retriever],\n",
    "                                       weights=[0.15, 0.85])"
   ]
  },
  {
   "cell_type": "code",
   "execution_count": 16,
   "metadata": {},
   "outputs": [
    {
     "data": {
      "text/plain": [
       "[Document(metadata={'Legislation': 'Constitution of the Republic of Singapore', 'Part No.': 'PART 5', 'Part Title': 'THE GOVERNMENT', 'Section Title': 'The President', 'Subsection No.': '17.', 'id': '67'}, page_content='Constitution of the Republic of Singapore PART 5 THE GOVERNMENT The President 17.<br><br>17.—(1)There shall be a President of Singapore who shall be the Head of State.[28/2016](2)In addition to being the Head of State, it is also the function of the President to safeguard the reserves of Singapore and the integrity of the Public Services of Singapore, and the President is to perform this function according to the provisions of this Constitution mentioned in clause(3).[28/2016](3)The provisions mentioned by'),\n",
       " Document(id='933db892-1dbc-40cc-aa84-4e19791a3b0b', metadata={'Legislation': 'Constitution of the Republic of Singapore', 'Part No.': 'PART 6', 'Part Title': 'THE LEGISLATURE', 'Section Title': 'Legislature of Singapore', 'Subsection No.': '62.', 'id': '403'}, page_content='Constitution of the Republic of Singapore PART 6 THE LEGISLATURE Legislature of Singapore 62.<br><br>62.The President may address Parliament and may send messages thereto.'),\n",
       " Document(id='37fdd83c-5c2a-4f17-a25e-8d978dadd09f', metadata={'Legislation': 'Constitution of the Republic of Singapore', 'Part No.': 'PART 5', 'Part Title': 'THE GOVERNMENT', 'Section Title': 'The President', 'Subsection No.': '22L.', 'id': '200'}, page_content='Constitution of the Republic of Singapore PART 5 THE GOVERNMENT The President 22L.<br><br>22L.—(1)The office of President shall become vacant—(a)upon the death of the President;(aa)if the President ceases to be a citizen of Singapore;(b)if the President resigns his office by writing under his hand addressed to the Prime Minister;(c)if the President is removed from office in accordance with clauses(3) to (7);(d)if the Election Judge in the exercise of his powers under Article93A determines that the election'),\n",
       " Document(id='66e50156-674f-46a9-8c13-755cb79cbde4', metadata={'Legislation': 'Constitution of the Republic of Singapore', 'Part No.': 'PART 5', 'Part Title': 'THE GOVERNMENT', 'Section Title': 'The President', 'Subsection No.': '23.', 'id': '226'}, page_content='Constitution of the Republic of Singapore PART 5 THE GOVERNMENT The President 23.<br><br>23.—(1)The executive authority of Singapore shall be vested in the President and exercisable subject to the provisions of this Constitution by him or by the Cabinet or any Minister authorised by the Cabinet.(2)The Legislature may by law confer executive functions on other persons.'),\n",
       " Document(metadata={'Legislation': 'Constitution of the Republic of Singapore', 'Part No.': 'PART 14', 'Part Title': 'TRANSITIONAL PROVISIONS', 'Section Title': 'Existing Standing Orders', 'Subsection No.': '160.', 'id': '796'}, page_content='Constitution of the Republic of Singapore PART 14 TRANSITIONAL PROVISIONS Existing Standing Orders 160.<br><br>160.Subject to this Article, all property and assets which immediately before the commencement of this Constitution were vested in the State of Singapore shall vest in the Republic of Singapore.'),\n",
       " Document(metadata={'Legislation': 'Constitution of the Republic of Singapore', 'Part No.': 'PART 7', 'Part Title': 'THE PRESIDENTIAL COUNCIL FOR MINORITY RIGHTS', 'Section Title': 'Interpretation of this Part', 'Subsection No.': '87.', 'id': '461'}, page_content='Constitution of the Republic of Singapore PART 7 THE PRESIDENTIAL COUNCIL FOR MINORITY RIGHTS Interpretation of this Part 87.<br><br>87.Any Minister, Minister of State or Parliamentary Secretary specially authorised by the Prime Minister for this purpose shall be entitled to attend and take part in the proceedings of the Council as if he were a member but shall not have the right to vote in the Council.'),\n",
       " Document(metadata={'Legislation': 'Constitution of the Republic of Singapore', 'Part No.': 'PART 10', 'Part Title': 'CITIZENSHIP', 'Section Title': 'Status of citizen of Singapore', 'Subsection No.': '122.', 'id': '613'}, page_content='birth in that country where—(i)in the case of a person born before the date of commencement of section7 of the Constitution of the Republic of Singapore (Amendment) Act2004, his father is a citizen of Singapore by registration at the time of his birth; or(ii)in the case of a person born on or after the date of commencement of section7 of the Constitution of the Republic of Singapore (Amendment) Act2004, either his father or mother is a citizen of Singapore by registration at the time of his')]"
      ]
     },
     "execution_count": 16,
     "metadata": {},
     "output_type": "execute_result"
    }
   ],
   "source": [
    "ensemble_retriever.get_relevant_documents('Who is the Head of State of Singapore?')"
   ]
  },
  {
   "cell_type": "code",
   "execution_count": 17,
   "metadata": {},
   "outputs": [
    {
     "data": {
      "text/plain": [
       "[(Document(id='965fde98-ba1e-4ba7-824e-8388169adcd0', metadata={'Legislation': 'Constitution of the Republic of Singapore', 'Part No.': 'PART 5', 'Part Title': 'THE GOVERNMENT', 'Section Title': 'The President', 'Subsection No.': '17.', 'id': '67'}, page_content='Constitution of the Republic of Singapore PART 5 THE GOVERNMENT The President 17.<br><br>17.—(1)There shall be a President of Singapore who shall be the Head of State.[28/2016](2)In addition to being the Head of State, it is also the function of the President to safeguard the reserves of Singapore and the integrity of the Public Services of Singapore, and the President is to perform this function according to the provisions of this Constitution mentioned in clause(3).[28/2016](3)The provisions mentioned by'),\n",
       "  np.float32(0.6493315)),\n",
       " (Document(id='933db892-1dbc-40cc-aa84-4e19791a3b0b', metadata={'Legislation': 'Constitution of the Republic of Singapore', 'Part No.': 'PART 6', 'Part Title': 'THE LEGISLATURE', 'Section Title': 'Legislature of Singapore', 'Subsection No.': '62.', 'id': '403'}, page_content='Constitution of the Republic of Singapore PART 6 THE LEGISLATURE Legislature of Singapore 62.<br><br>62.The President may address Parliament and may send messages thereto.'),\n",
       "  np.float32(0.5111941)),\n",
       " (Document(id='37fdd83c-5c2a-4f17-a25e-8d978dadd09f', metadata={'Legislation': 'Constitution of the Republic of Singapore', 'Part No.': 'PART 5', 'Part Title': 'THE GOVERNMENT', 'Section Title': 'The President', 'Subsection No.': '22L.', 'id': '200'}, page_content='Constitution of the Republic of Singapore PART 5 THE GOVERNMENT The President 22L.<br><br>22L.—(1)The office of President shall become vacant—(a)upon the death of the President;(aa)if the President ceases to be a citizen of Singapore;(b)if the President resigns his office by writing under his hand addressed to the Prime Minister;(c)if the President is removed from office in accordance with clauses(3) to (7);(d)if the Election Judge in the exercise of his powers under Article93A determines that the election'),\n",
       "  np.float32(0.50904787)),\n",
       " (Document(id='66e50156-674f-46a9-8c13-755cb79cbde4', metadata={'Legislation': 'Constitution of the Republic of Singapore', 'Part No.': 'PART 5', 'Part Title': 'THE GOVERNMENT', 'Section Title': 'The President', 'Subsection No.': '23.', 'id': '226'}, page_content='Constitution of the Republic of Singapore PART 5 THE GOVERNMENT The President 23.<br><br>23.—(1)The executive authority of Singapore shall be vested in the President and exercisable subject to the provisions of this Constitution by him or by the Cabinet or any Minister authorised by the Cabinet.(2)The Legislature may by law confer executive functions on other persons.'),\n",
       "  np.float32(0.50764394)),\n",
       " (Document(id='eba4cf8f-6ca2-436b-828d-bd15258973db', metadata={'Legislation': 'Constitution of the Republic of Singapore', 'Part No.': 'PART 5', 'Part Title': 'THE GOVERNMENT', 'Section Title': 'The President', 'Subsection No.': '27.', 'id': '235'}, page_content='Constitution of the Republic of Singapore PART 5 THE GOVERNMENT The President 27.<br><br>27.The Prime Minister and every other Minister shall, before entering on the duties of his office, take and subscribe before the President the Oath of Allegiance and the appropriate Oath for the due execution of his office in the forms set out in the FirstSchedule.'),\n",
       "  np.float32(0.5035856)),\n",
       " (Document(id='bdd0a70e-3055-4a0b-862e-d21cd13fbe70', metadata={'Legislation': 'Constitution of the Republic of Singapore', 'Part No.': 'PART 9', 'Part Title': 'THE PUBLIC SERVICE', 'Section Title': 'Public services', 'Subsection No.': '105.', 'id': '509'}, page_content='Constitution of the Republic of Singapore PART 9 THE PUBLIC SERVICE Public services 105.<br><br>105.—(1)There shall be a Public Service Commission which shall consist of a Chairman and not less than 5 and not more than 14other members, each of whom shall be appointed in writing under the hand of the President, if the President, acting in his discretion, concurs with the advice of the Prime Minister.(2)The Chairman shall be a citizen of Singapore.(3)The President may, from time to time, if he, acting in his'),\n",
       "  np.float32(0.5007307)),\n",
       " (Document(id='687ad815-d7f7-45ed-b952-780a7ccb931f', metadata={'Legislation': 'Constitution of the Republic of Singapore', 'Part No.': 'PART 6', 'Part Title': 'THE LEGISLATURE', 'Section Title': 'Legislature of Singapore', 'Subsection No.': '54.', 'id': '388'}, page_content='Constitution of the Republic of Singapore PART 6 THE LEGISLATURE Legislature of Singapore 54.<br><br>54.The Speaker shall preside at each sitting of Parliament.'),\n",
       "  np.float32(0.49950105)),\n",
       " (Document(id='42fd05e7-f639-4240-acc2-3994883f6fea', metadata={'Legislation': 'Constitution of the Republic of Singapore', 'Part No.': 'PART 5', 'Part Title': 'THE GOVERNMENT', 'Section Title': 'The President', 'Subsection No.': '17A.', 'id': '69'}, page_content='Constitution of the Republic of Singapore PART 5 THE GOVERNMENT The President 17A.<br><br>17A.—(1)The President is to be elected by the citizens of Singapore in accordance with any law made by the Legislature.[28/2016](2)Any poll for the election of President must be held as follows:(a)in the case where the office of President becomes vacant prior to the expiration of the term of office of the incumbent and a writ for the election has not been issued before such vacation of office or, if so issued, has'),\n",
       "  np.float32(0.49822336)),\n",
       " (Document(id='b4bc0859-895e-40e6-a605-6a6b95d8604e', metadata={'Legislation': 'Constitution of the Republic of Singapore', 'Part No.': 'PART 5', 'Part Title': 'THE GOVERNMENT', 'Section Title': 'The President', 'Subsection No.': '24.', 'id': '227'}, page_content='Constitution of the Republic of Singapore PART 5 THE GOVERNMENT The President 24.<br><br>24.—(1)There shall be in and for Singapore a Cabinet which shall consist of the Prime Minister and such other Ministers as may be appointed in accordance with Article25.(2)Subject to the provisions of this Constitution, the Cabinet shall have the general direction and control of the Government and shall be collectively responsible to Parliament.'),\n",
       "  np.float32(0.49549907)),\n",
       " (Document(id='bca70965-23fb-42d9-9653-855494383896', metadata={'Legislation': 'Constitution of the Republic of Singapore', 'Part No.': 'PART 5', 'Part Title': 'THE GOVERNMENT', 'Section Title': 'The President', 'Subsection No.': '32.', 'id': '241'}, page_content='Constitution of the Republic of Singapore PART 5 THE GOVERNMENT The President 32.<br><br>32.The President, acting in accordance with the advice of the Prime Minister, may grant leave of absence from his duties to the Prime Minister, to any other Minister and to any Parliamentary Secretary.'),\n",
       "  np.float32(0.49127376))]"
      ]
     },
     "execution_count": 17,
     "metadata": {},
     "output_type": "execute_result"
    }
   ],
   "source": [
    "vectorstore.similarity_search_with_relevance_scores('''Who is the Head of State of Singapore?''',k=10)"
   ]
  },
  {
   "cell_type": "code",
   "execution_count": 22,
   "metadata": {},
   "outputs": [
    {
     "data": {
      "text/plain": [
       "[Document(id='b76e1873-3c21-4c52-a163-52ff38f33eb3', metadata={'Legislation': 'Constitution of the Republic of Singapore', 'Part No.': 'PART 6', 'Part Title': 'THE LEGISLATURE', 'Section Title': 'Legislature of Singapore', 'Subsection No.': '65.', 'id': '413'}, page_content='a reasonable period has elapsed since that office was last vacated and that there is no Member of Parliament likely to command the confidence of a majority of the Members thereof.(3)The President may, at any time, by Proclamation in the Gazette, dissolve Parliament if he is advised by the Prime Minister to do so, but he shall not be obliged to act in this respect in accordance with the advice of the Prime Minister unless he is satisfied that, in tendering that advice, the Prime Minister commands the'),\n",
       " Document(id='ac006ad9-7a53-4f08-a48d-e97a92917e62', metadata={'Legislation': 'Constitution of the Republic of Singapore', 'Part No.': 'PART 6', 'Part Title': 'THE LEGISLATURE', 'Section Title': 'Legislature of Singapore', 'Subsection No.': '65.', 'id': '416'}, page_content='other allegations contained in such motion;(c)the consequent resolution for the removal of the President is not passed under Article22L(7); or(d)Parliament by resolution requests the President to dissolve Parliament.(4)Parliament, unless sooner dissolved, shall continue for 5years from the date of its first sitting and shall then stand dissolved.'),\n",
       " Document(id='e7418698-39d1-435b-a8a5-6719d85e687b', metadata={'Legislation': 'Constitution of the Republic of Singapore', 'Part No.': 'PART 6', 'Part Title': 'THE LEGISLATURE', 'Section Title': 'Legislature of Singapore', 'Subsection No.': '65.', 'id': '412'}, page_content='Constitution of the Republic of Singapore PART 6 THE LEGISLATURE Legislature of Singapore 65.<br><br>65.—(1)The President may, at any time, by Proclamation in the Gazette, prorogue Parliament.(2)If, at any time, the office of Prime Minister is vacant, the President shall, by Proclamation in the Gazette, dissolve Parliament as soon as he is satisfied, acting in his discretion, that a reasonable period has elapsed since that office was last vacated and that there is no Member of Parliament likely to command'),\n",
       " Document(id='812bf40d-273d-4b72-9f47-d198489938de', metadata={'Legislation': 'Constitution of the Republic of Singapore', 'Part No.': 'PART 5', 'Part Title': 'THE GOVERNMENT', 'Section Title': 'The President', 'Subsection No.': '22L.', 'id': '207'}, page_content='allegations contained in such resolution, Parliament may by a resolution passed by not less than three‑quarters of the total number of Members of Parliament (excluding nominated Members) remove the President from office.[28/2016]'),\n",
       " Document(metadata={'Legislation': 'Constitution of the Republic of Singapore', 'Part No.': 'PART 10', 'Part Title': 'CITIZENSHIP', 'Section Title': 'Status of citizen of Singapore', 'Subsection No.': '121.', 'id': '608'}, page_content='possessed such immunity from suit and legal process as is accorded to an envoy of a sovereign power accredited to the President;(b)his father was an enemy alien and the birth occurred in a place then under the occupation of the enemy; or(c)neither of his parents was a citizen of Singapore.(3)Notwithstanding clause(2)(c), the Government may, where it considers it just and fair and having regard to all the circumstances prevailing at the time of the application, confer citizenship upon a person born in'),\n",
       " Document(metadata={'Legislation': 'Constitution of the Republic of Singapore', 'Part No.': 'PART 10', 'Part Title': 'CITIZENSHIP', 'Section Title': 'Status of citizen of Singapore', 'Subsection No.': '121.', 'id': '607'}, page_content='Constitution of the Republic of Singapore PART 10 CITIZENSHIP Status of citizen of Singapore 121.<br><br>121.—(1)Subject to this Article, every person born in Singapore after 16 September 1963 shall be a citizen of Singapore by birth.(2)A person shall not be a citizen of Singapore by virtue of clause(1) if at the time of his birth—(a)his father, not being a citizen of Singapore, possessed such immunity from suit and legal process as is accorded to an envoy of a sovereign power accredited to the'),\n",
       " Document(metadata={'Legislation': 'Constitution of the Republic of Singapore', 'Part No.': 'PART 5', 'Part Title': 'THE GOVERNMENT', 'Section Title': 'The President', 'Subsection No.': '22B.', 'id': '158'}, page_content='by the Government, transferee company or (as the case may be) transferee board before the current term of office of the Government as follows:(a)where the budget of the transferor board for any financial year provides for the proposed transfer of reserves and the budget is approved by the President— at the beginning of that financial year;(b)where a supplementary budget of the transferor board provides for the proposed transfer and the supplementary budget is approved by the President— on the date of such'),\n",
       " Document(metadata={'Legislation': 'Constitution of the Republic of Singapore', 'Part No.': 'PART 5', 'Part Title': 'THE GOVERNMENT', 'Section Title': 'The President', 'Subsection No.': '18.', 'id': '77'}, page_content='with the provisions of this Article under which the vacating member was appointed.[28/2016](6)A member’s appointment cannot be revoked under clause(4)(c) from the time a writ is issued for an election to the office of President until the time a person is declared to be elected to the office of President.[28/2016](7)If any member of the Committee is absent from Singapore or for any other reason unable to discharge his functions, the following provisions apply:(a)if the member is the Chairman of the')]"
      ]
     },
     "execution_count": 22,
     "metadata": {},
     "output_type": "execute_result"
    }
   ],
   "source": [
    "ensemble_retriever.get_relevant_documents('What is the process for dissolving Parliament?')"
   ]
  },
  {
   "cell_type": "code",
   "execution_count": 23,
   "metadata": {},
   "outputs": [
    {
     "data": {
      "text/plain": [
       "[(Document(id='b76e1873-3c21-4c52-a163-52ff38f33eb3', metadata={'Legislation': 'Constitution of the Republic of Singapore', 'Part No.': 'PART 6', 'Part Title': 'THE LEGISLATURE', 'Section Title': 'Legislature of Singapore', 'Subsection No.': '65.', 'id': '413'}, page_content='a reasonable period has elapsed since that office was last vacated and that there is no Member of Parliament likely to command the confidence of a majority of the Members thereof.(3)The President may, at any time, by Proclamation in the Gazette, dissolve Parliament if he is advised by the Prime Minister to do so, but he shall not be obliged to act in this respect in accordance with the advice of the Prime Minister unless he is satisfied that, in tendering that advice, the Prime Minister commands the'),\n",
       "  np.float32(0.5985091)),\n",
       " (Document(id='ac006ad9-7a53-4f08-a48d-e97a92917e62', metadata={'Legislation': 'Constitution of the Republic of Singapore', 'Part No.': 'PART 6', 'Part Title': 'THE LEGISLATURE', 'Section Title': 'Legislature of Singapore', 'Subsection No.': '65.', 'id': '416'}, page_content='other allegations contained in such motion;(c)the consequent resolution for the removal of the President is not passed under Article22L(7); or(d)Parliament by resolution requests the President to dissolve Parliament.(4)Parliament, unless sooner dissolved, shall continue for 5years from the date of its first sitting and shall then stand dissolved.'),\n",
       "  np.float32(0.5800248)),\n",
       " (Document(id='e7418698-39d1-435b-a8a5-6719d85e687b', metadata={'Legislation': 'Constitution of the Republic of Singapore', 'Part No.': 'PART 6', 'Part Title': 'THE LEGISLATURE', 'Section Title': 'Legislature of Singapore', 'Subsection No.': '65.', 'id': '412'}, page_content='Constitution of the Republic of Singapore PART 6 THE LEGISLATURE Legislature of Singapore 65.<br><br>65.—(1)The President may, at any time, by Proclamation in the Gazette, prorogue Parliament.(2)If, at any time, the office of Prime Minister is vacant, the President shall, by Proclamation in the Gazette, dissolve Parliament as soon as he is satisfied, acting in his discretion, that a reasonable period has elapsed since that office was last vacated and that there is no Member of Parliament likely to command'),\n",
       "  np.float32(0.55291456)),\n",
       " (Document(id='812bf40d-273d-4b72-9f47-d198489938de', metadata={'Legislation': 'Constitution of the Republic of Singapore', 'Part No.': 'PART 5', 'Part Title': 'THE GOVERNMENT', 'Section Title': 'The President', 'Subsection No.': '22L.', 'id': '207'}, page_content='allegations contained in such resolution, Parliament may by a resolution passed by not less than three‑quarters of the total number of Members of Parliament (excluding nominated Members) remove the President from office.[28/2016]'),\n",
       "  np.float32(0.54283917)),\n",
       " (Document(id='571bdaec-5dcb-4edc-9d4b-c74ba19acce2', metadata={'Legislation': 'Constitution of the Republic of Singapore', 'Part No.': 'PART 5', 'Part Title': 'THE GOVERNMENT', 'Section Title': 'The President', 'Subsection No.': '25.', 'id': '229'}, page_content='of Parliament:Provided that, if an appointment is made while Parliament is dissolved, a person who was a Member of the last Parliament may be appointed but shall not continue to hold office after the first sitting of the next Parliament unless he is a Member thereof.(2)Appointments under this Article shall be made by the President by instrument under the public seal.'),\n",
       "  np.float32(0.54099536)),\n",
       " (Document(id='7ad947e3-5652-4126-82f3-0268fab2b54f', metadata={'Legislation': 'Constitution of the Republic of Singapore', 'Part No.': 'PART 5A', 'Part Title': 'COUNCIL OF PRESIDENTIAL ADVISERS', 'Section Title': 'Interpretation of this Part', 'Subsection No.': '37IA.', 'id': '303'}, page_content='the Prime Minister in accordance with Article25(1);(iii)declaring under Article26(1)(b) that the office of Prime Minister is vacant;(iv)authorising a Minister to exercise the Prime Minister’s functions under Article26(4)(c);(v)dissolving Parliament under Article26(1)(b) or 65(2) or (3);(vi)granting leave of absence to the Chief Justice under Article98(10).[28/2016]'),\n",
       "  np.float32(0.5377894)),\n",
       " (Document(id='6822c967-8448-4486-a359-4e23446f605d', metadata={'Legislation': 'Constitution of the Republic of Singapore', 'Part No.': 'PART 6', 'Part Title': 'THE LEGISLATURE', 'Section Title': 'Legislature of Singapore', 'Subsection No.': '42.', 'id': '350'}, page_content='under his hand addressed to the Clerk of Parliament, and shall vacate his office—(i)when Parliament first meets after a general election;(ii)in the case of a Deputy Speaker elected from among the Members of Parliament, if he ceases to be a Member of Parliament otherwise than by reason of a dissolution thereof or if he is appointed to be a Minister or a Parliamentary Secretary; or(iii)in the case of a Deputy Speaker elected from among persons who are not Members of Parliament, if any circumstance arises'),\n",
       "  np.float32(0.5366562)),\n",
       " (Document(id='232f4394-f2d1-497d-9a4a-de87555bb712', metadata={'Legislation': 'Constitution of the Republic of Singapore', 'Part No.': 'PART 5', 'Part Title': 'THE GOVERNMENT', 'Section Title': 'The President', 'Subsection No.': '26.', 'id': '231'}, page_content='ceased to command the confidence of a majority of the Members of Parliament:Provided that, before declaring the office of Prime Minister vacant under this paragraph, the President shall inform the Prime Minister that he is satisfied as aforesaid, and, if the Prime Minister so requests, the President may dissolve Parliament instead of making such a declaration.(2)A Minister, other than the Prime Minister, shall vacate his office—(a)if his appointment to that office is revoked by the President, acting in'),\n",
       "  np.float32(0.53620875)),\n",
       " (Document(id='6b74c957-de01-4ee5-9cdf-b545b38c3039', metadata={'Legislation': 'Constitution of the Republic of Singapore', 'Part No.': 'PART 6', 'Part Title': 'THE LEGISLATURE', 'Section Title': 'Legislature of Singapore', 'Subsection No.': '65.', 'id': '414'}, page_content='with the advice of the Prime Minister unless he is satisfied that, in tendering that advice, the Prime Minister commands the confidence of a majority of the Members of Parliament.(3A)The President shall not dissolve Parliament after a notice of motion proposing an inquiry into the conduct of the President has been given under Article22L(3) unless—(a)a resolution is not passed pursuant to the notice of such motion under Article22L(4);(b)where a resolution has been passed pursuant to the notice of such'),\n",
       "  np.float32(0.52550733)),\n",
       " (Document(id='265df5f3-02c6-47bf-a217-5207cfb2676e', metadata={'Legislation': 'Constitution of the Republic of Singapore', 'Part No.': 'PART 5', 'Part Title': 'THE GOVERNMENT', 'Section Title': 'The President', 'Subsection No.': '31.', 'id': '240'}, page_content='is made while Parliament is dissolved, a person who was a Member of the last Parliament may be appointed a Parliamentary Secretary but shall not continue to hold office after the first sitting of the next Parliament unless he is a Member thereof.(2)Article26(2) and (3) and Article27 shall apply to Parliamentary Secretaries as they apply to Ministers.'),\n",
       "  np.float32(0.5221355))]"
      ]
     },
     "execution_count": 23,
     "metadata": {},
     "output_type": "execute_result"
    }
   ],
   "source": [
    "vectorstore.similarity_search_with_relevance_scores('''What is the process for dissolving Parliament?''',k=10)"
   ]
  },
  {
   "cell_type": "code",
   "execution_count": 18,
   "metadata": {},
   "outputs": [],
   "source": [
    "# # Now retrieve the actual documents using those IDs\n",
    "# documents = [vectorstore.docstore._dict[doc_id] for doc_id in vectorstore.index_to_docstore_id.values()]\n",
    "\n",
    "# # Example: Print each document chunk\n",
    "# for i, doc in enumerate(documents):\n",
    "#     print(f\"Chunk {i+1}:\\n{doc.page_content}\\n{'-'*50}\")\n",
    "#     if i == 10:\n",
    "#         break"
   ]
  },
  {
   "cell_type": "code",
   "execution_count": null,
   "metadata": {},
   "outputs": [],
   "source": []
  }
 ],
 "metadata": {
  "kernelspec": {
   "display_name": "myVenv",
   "language": "python",
   "name": "python3"
  },
  "language_info": {
   "codemirror_mode": {
    "name": "ipython",
    "version": 3
   },
   "file_extension": ".py",
   "mimetype": "text/x-python",
   "name": "python",
   "nbconvert_exporter": "python",
   "pygments_lexer": "ipython3",
   "version": "3.10.6"
  }
 },
 "nbformat": 4,
 "nbformat_minor": 2
}
