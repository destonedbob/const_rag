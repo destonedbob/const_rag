{
 "cells": [
  {
   "cell_type": "code",
   "execution_count": 1,
   "id": "ea8e1300",
   "metadata": {},
   "outputs": [],
   "source": [
    "from bs4 import BeautifulSoup"
   ]
  },
  {
   "cell_type": "code",
   "execution_count": 17,
   "id": "f0323be6",
   "metadata": {},
   "outputs": [],
   "source": [
    "with open('constitution.html', 'rb') as f:\n",
    "    soup = BeautifulSoup(f, 'html.parser')"
   ]
  },
  {
   "cell_type": "code",
   "execution_count": 21,
   "id": "fbd5698d",
   "metadata": {},
   "outputs": [],
   "source": [
    "legis = soup.find(id='legis')"
   ]
  },
  {
   "cell_type": "code",
   "execution_count": 59,
   "id": "27633c98",
   "metadata": {},
   "outputs": [],
   "source": [
    "i = 0\n",
    "const = []\n",
    "for html_part in legis.select('.part'):\n",
    "    res = ''\n",
    "    part_number = html_part.select('.partNo')[0].text\n",
    "    part_header = html_part.select('.partHdr')[0].text\n",
    "    prov_header = html_part.select('.prov1Hdr')[0].text\n",
    "    prov_text = html_part.select('.prov1Txt')\n",
    "\n",
    "    res += '# ' + part_number + '<br>'\n",
    "    res += '# ' + part_header + '<br>'\n",
    "    res += '## ' + prov_header\n",
    "    for each in prov_text:\n",
    "        res += '<br>' + each.text\n",
    "\n",
    "    const.append(res)\n",
    "    i += 1"
   ]
  },
  {
   "cell_type": "code",
   "execution_count": null,
   "id": "60faa625",
   "metadata": {},
   "outputs": [],
   "source": []
  }
 ],
 "metadata": {
  "kernelspec": {
   "display_name": "myVenv",
   "language": "python",
   "name": "python3"
  },
  "language_info": {
   "codemirror_mode": {
    "name": "ipython",
    "version": 3
   },
   "file_extension": ".py",
   "mimetype": "text/x-python",
   "name": "python",
   "nbconvert_exporter": "python",
   "pygments_lexer": "ipython3",
   "version": "3.10.6"
  }
 },
 "nbformat": 4,
 "nbformat_minor": 5
}
