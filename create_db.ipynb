{
 "cells": [
  {
   "cell_type": "code",
   "execution_count": 1,
   "id": "ea8e1300",
   "metadata": {},
   "outputs": [],
   "source": [
    "from bs4 import BeautifulSoup\n",
    "from langchain_ollama import OllamaEmbeddings\n",
    "from langchain.vectorstores import FAISS\n",
    "from langchain.schema import Document\n",
    "from langchain.text_splitter import RecursiveCharacterTextSplitter\n",
    "from langchain_community.document_loaders import TextLoader\n",
    "from langchain_core.vectorstores import VectorStoreRetriever\n",
    "from langchain.chains import RetrievalQA\n",
    "from langchain_core.embeddings import Embeddings\n"
   ]
  },
  {
   "cell_type": "code",
   "execution_count": 2,
   "id": "f0323be6",
   "metadata": {},
   "outputs": [],
   "source": [
    "with open('constitution.html', 'rb') as f:\n",
    "    soup = BeautifulSoup(f, 'html.parser')"
   ]
  },
  {
   "cell_type": "code",
   "execution_count": 3,
   "id": "fbd5698d",
   "metadata": {},
   "outputs": [],
   "source": [
    "legis = soup.find(id='legis')"
   ]
  },
  {
   "cell_type": "code",
   "execution_count": 4,
   "id": "27633c98",
   "metadata": {},
   "outputs": [],
   "source": [
    "documents = []\n",
    "for html_part in legis.select('.part'):\n",
    "    temp_dict = {}\n",
    "    res = ''\n",
    "    part_number = html_part.select('.partNo')[0].text\n",
    "    part_header = html_part.select('.partHdr')[0].text\n",
    "    prov_header = html_part.select('.prov1Hdr')[0].text\n",
    "    prov_text = html_part.select('.prov1Txt')\n",
    "\n",
    "\n",
    "    res += '# ' + part_number + '<br>'\n",
    "    res += '# ' + part_header + '<br>'\n",
    "    res += '## ' + prov_header\n",
    "    for each in prov_text:\n",
    "        # res += '<br>' + each.text\n",
    "        temp_dict['text'] = each.text.replace('\\xa0', '')\n",
    "        meta_data = {}\n",
    "        meta_data['Legislation'] = 'Constitution of the Republic of Singapore'\n",
    "        meta_data['Part No.'] = part_number\n",
    "        meta_data['Part Title'] = part_header\n",
    "        meta_data['Section Title'] = prov_header\n",
    "        meta_data['Subsection No.'] = each.select('strong')[0].text\n",
    "        temp_dict['metadata'] = meta_data\n",
    "\n",
    "    documents.append(temp_dict)"
   ]
  },
  {
   "cell_type": "code",
   "execution_count": 5,
   "id": "60faa625",
   "metadata": {},
   "outputs": [
    {
     "data": {
      "text/plain": [
       "[{'text': '2.—(1)In this Constitution, unless it is otherwise provided or the context otherwise requires—“Cabinet” means the Cabinet constituted under this Constitution;“Civil List” means the provision made under Article22J for the maintenance of the President;“citizen of Singapore” means any person who, under the provisions of this Constitution, has the status of a citizen of Singapore;“commencement”, used with reference to this Constitution, means 9 August 1965;“Consolidated Fund” means the Consolidated Fund established by this Constitution;“Council of Presidential Advisers” means the Council of Presidential Advisers constituted under Part5A;“existing law” means any law having effect as part of the law of Singapore immediately before the commencement of this Constitution;“Government” means the Government of Singapore;“high judicial office” means the office of the Chief Justice, a Justice of the Court of Appeal, a Judge of the Appellate Division, a Judge of the High Court, a Judicial Commissioner, a Senior Judge or an International Judge, and “person holding high judicial office” has a corresponding meaning;“Judicial Service Commission” means the Judicial Service Commission constituted under this Constitution;[Act 32 of 2021 wef 14/01/2022]“law” includes written law and any legislation of the United Kingdom or other enactment or instrument whatsoever which is in operation in Singapore and the common law in so far as it is in operation in Singapore and any custom or usage having the force of law in Singapore;“Legal Service Commission” means the Legal Service Commission constituted under this Constitution;“Legislature” means the Legislature of Singapore;“Minister” means a Minister appointed under this Constitution;“office of profit” means, subject to clause(5), any whole time office in the public service;“Parliament” means the Parliament of Singapore;“President” means the President of Singapore elected under this Constitution and includes any person for the time being exercising the functions of the office of President;“Presidential Elections Committee” means the Presidential Elections Committee constituted under Article18;“Prime Minister” means the Prime Minister of Singapore appointed under this Constitution;“public office” means, subject to clause(5), an office of emolument in the public service;“public officer” means the holder of any public office;“public seal” means the public seal of Singapore;“public service” means service under the Government;“Public Service Commission” means the Public Service Commission constituted under this Constitution;“register of electors” means any register of electors prepared under the provisions of any written law for the time being in force relating to Parliamentary elections;“remuneration”, in respect of any public officer, means only the emoluments of that officer, the whole or any part of which count for pension or gratuity in accordance with the provisions of any law relating to the grant of pensions or gratuities in respect of the public service;“reserves”, in relation to the Government, a statutory board or Government company, means the excess of assets over liabilities of the Government, statutory board or Government company, as the case may be;“session” means the sittings of Parliament commencing when it first meets after being constituted, or after its prorogation or dissolution at any time, and terminating when Parliament is prorogued or is dissolved without having been prorogued;“Singapore” means the Republic of Singapore;“sitting” means a period during which Parliament is sitting continuously without adjournment, including any period during which Parliament is in committee;“Speaker” and “Deputy Speaker” mean, respectively, the Speaker and a Deputy Speaker of Parliament;“Supreme Court Judge” means the Chief Justice, a Justice of the Court of Appeal, a Judge of the Appellate Division or a Judge of the High Court;“term of office”, in relation to the Government, means the period—(a)commencing on the date the Prime Minister and Ministers first take and subscribe the Oath of Allegiance in accordance with Article27 after a general election; and(b)ending after the next general election on the date immediately before the Prime Minister and Ministers first take and subscribe the Oath of Allegiance in accordance with Article27;“terms of service”, in respect of any officer, includes the remuneration to which that officer is entitled by virtue of his office, and any pension, gratuity or other like allowance payable to or in respect of that officer;“written law” means this Constitution and all Acts and Ordinances and subsidiary legislation for the time being in force in Singapore.[39/2014; 38/2019](2)Except where this Constitution otherwise provides or where the context otherwise requires—(a)the person or authority having power to make substantive appointments to any public office may appoint a person to perform the functions of that office during any period when it is vacant or when the holder thereof is unable (whether by reason of absence or infirmity of body or mind or any other cause) to perform those functions;(b)every appointment to perform the functions of an office made under paragraph(a) shall be made in the same manner as and subject to the same conditions as apply to a substantive appointment to that office;(c)any reference in this Constitution to the holder of any office by the term designating his office shall be construed as including a reference to any person for the time being lawfully performing the functions of that office; and(d)any reference in this Constitution to an appointment to any office shall be construed as including a reference to an appointment to perform the functions of that office.(3)Where in this Constitution power is conferred on any person or authority to appoint a person to perform the functions of any office if the holder thereof is unable himself to perform its functions, any such appointment shall not be called in question on the ground that the holder of that office was not unable to perform those functions.(4)For the purposes of this Constitution, the resignation of a member of any body or the holder of any office constituted by this Constitution that is required to be addressed to any person shall be deemed to have effect from the time that it is received by that person:Provided that, in the case of a resignation that is required to be addressed to the Speaker, the resignation shall, if the office of Speaker is vacant or the Speaker is absent from Singapore, be deemed to have effect from the time that it is received by a Deputy Speaker on behalf of the Speaker.(5)For the purposes of this Constitution, a person shall not be considered as holding a public office or an office of profit by reason of the fact that he is in receipt of any remuneration or allowances (including a pension or other like allowance) in respect of his tenure of the office of President, Prime Minister, Chief Justice, Speaker, Deputy Speaker, Minister, Parliamentary Secretary, Political Secretary, Member of Parliament, Ambassador, High Commissioner or such other office as the President may, from time to time, by order, prescribe.(6)(a)Without prejudice to clause(2) when the holder of any public office is on leave of absence pending relinquishment of that office, the person or authority having power to make appointments to that office may appoint another person thereto.(b)Where 2 or more persons are holding the same office by reason of an appointment made pursuant to paragraph(a), the person last appointed shall, in respect of any function conferred on the holder of that office, be deemed to be the sole holder of that office.(7)Where a person is required by this Constitution to take an oath, he shall be permitted, if he so desires, to comply with that requirement by making an affirmation.(7A)To avoid doubt, where a person is required to take, or take and subscribe, an oath under Article 20(3), 22N(5), 27, 37H(1), 75, 97(1), 105(8), 111B(4) or 111J(4), the person may take, or take and subscribe, the oath (or make an affirmation instead of taking the oath) by appearing before or in the presence of the person administering the oath or affirmation through a live video link or live television link created using a remote communication technology that allows the person administering the oath or affirmation to —(a)maintain visual contact and communicate with the person taking, or taking and subscribing, the oath or making the affirmation, and any interpreter present, throughout the process;(b)confirm the identity of the person taking, or taking and subscribing, the oath or making the affirmation, and any interpreter present; and(c)if the oath or affirmation is to be subscribed, verify by inspection the oath or affirmation to be subscribed.[Act 26 of 2023 wef 01/12/2023](7B)To avoid doubt, where a person is required to take the Oath of Renunciation, Allegiance and Loyalty under Article 122(4), 126(1) or (3) or 127(4), the person may take the oath (or make an affirmation instead of taking the oath) by appearing before the person administering the oath or affirmation through a live video link or live television link created using a remote communication technology that allows the person administering the oath or affirmation to —(a)maintain visual contact and communicate with the person taking the oath or making the affirmation, and any interpreter present, throughout the process;(b)confirm the identity of the person taking the oath or making the affirmation, and any interpreter present; and(c)if the oath or affirmation is to be subscribed, verify by inspection the oath or affirmation to be subscribed.[Act 26 of 2023 wef 01/12/2023](8)References in this Constitution to any period shall, so far as the context admits, be construed as including references to a period beginning before the commencement of this Constitution.(9)Subject to this Article, the Interpretation Act1965 shall apply for the purpose of interpreting this Constitution and otherwise in relation thereto as it applies for the purpose of interpreting and otherwise in relation to any written law within the meaning of that Act.(10)Unless the context otherwise requires, any reference in this Constitution to a specified Part, Article or Schedule is a reference to that Part or Article of, or that Schedule to, this Constitution; any reference to a specified chapter, clause, section or paragraph is a reference to that chapter of the Part, that clause of the Article, that section of theSchedule, or that paragraph of the clause or section, in which the reference occurs; and any reference to a group of Articles, sections or divisions of Articles or sections shall be construed as including both the first and the last member of the group referred to.',\n",
       "  'metadata': {'Legislation': 'Constitution of the Republic of Singapore',\n",
       "   'Part No.': 'PART 1',\n",
       "   'Part Title': 'PRELIMINARY',\n",
       "   'Section Title': 'Citation',\n",
       "   'Subsection No.': '2.'}},\n",
       " {'text': '5.—(1)Subject to this Article and Article 8, the provisions of this Constitution may be amended by a law enacted by the Legislature.(2)A Bill seeking to amend any provision in this Constitution shall not be passed by Parliament unless it has been supported on Second and Third Readings by the votes of not less than two‑thirds of the total number of Members of Parliament (excluding nominated Members).[28/2016](3)In this Article, “amendment” includes addition and repeal.',\n",
       "  'metadata': {'Legislation': 'Constitution of the Republic of Singapore',\n",
       "   'Part No.': 'PART 2',\n",
       "   'Part Title': 'THE REPUBLIC AND THE CONSTITUTION',\n",
       "   'Section Title': 'Republic of Singapore',\n",
       "   'Subsection No.': '5.'}},\n",
       " {'text': '8.—(1)A Bill for making an amendment to this Part shall not be passed by Parliament unless it has been supported, at a national referendum, by not less than two-thirds of the total number of votes cast by the electors registered under the Parliamentary Elections Act1954.(2)In this Article, “amendment” includes addition and repeal. ',\n",
       "  'metadata': {'Legislation': 'Constitution of the Republic of Singapore',\n",
       "   'Part No.': 'PART 3',\n",
       "   'Part Title': 'PROTECTION OF THE SOVEREIGNTY OF THE REPUBLIC OF SINGAPORE',\n",
       "   'Section Title': 'No surrender of sovereignty or relinquishment of control over the Police Force or the Armed Forces except by referendum',\n",
       "   'Subsection No.': '8.'}},\n",
       " {'text': '16.—(1)Without prejudice to the generality of Article12, there shall be no discrimination against any citizen of Singapore on the grounds only of religion, race, descent or place of birth—(a)in the administration of any educational institution maintained by a public authority, and, in particular, the admission of pupils or students or the payment of fees; or(b)in providing out of the funds of a public authority financial aid for the maintenance or education of pupils or students in any educational institution (whether or not maintained by a public authority and whether within or outside Singapore).(2)Every religious group has the right to establish and maintain institutions for the education of children and provide therein instruction in its own religion, and there shall be no discrimination on the ground only of religion in any law relating to such institutions or in the administration of any such law.(3)No person shall be required to receive instruction in or to take part in any ceremony or act of worship of a religion other than his own.(4)For the purposes of clause(3), the religion of a person under the age of 18years shall be decided by his parent or guardian.',\n",
       "  'metadata': {'Legislation': 'Constitution of the Republic of Singapore',\n",
       "   'Part No.': 'PART 4',\n",
       "   'Part Title': 'FUNDAMENTAL LIBERTIES',\n",
       "   'Section Title': 'Liberty of the person',\n",
       "   'Subsection No.': '16.'}},\n",
       " {'text': '37.—(1)The Government shall have power to acquire, hold and dispose of property of any kind and to make contracts.(2)The Government may sue and be sued.',\n",
       "  'metadata': {'Legislation': 'Constitution of the Republic of Singapore',\n",
       "   'Part No.': 'PART 5',\n",
       "   'Part Title': 'THE GOVERNMENT',\n",
       "   'Section Title': 'The President',\n",
       "   'Subsection No.': '37.'}},\n",
       " {'text': '37M.The Council shall have power to appoint a Secretary to the Council and such other officers as may be required to enable the Council to carry out its functions.',\n",
       "  'metadata': {'Legislation': 'Constitution of the Republic of Singapore',\n",
       "   'Part No.': 'PART 5A',\n",
       "   'Part Title': 'COUNCIL OF PRESIDENTIAL ADVISERS',\n",
       "   'Section Title': 'Interpretation of this Part',\n",
       "   'Subsection No.': '37M.'}},\n",
       " {'text': '67.The Legislature may by law make provision for the remuneration of Members of Parliament.',\n",
       "  'metadata': {'Legislation': 'Constitution of the Republic of Singapore',\n",
       "   'Part No.': 'PART 6',\n",
       "   'Part Title': 'THE LEGISLATURE',\n",
       "   'Section Title': 'Legislature of Singapore',\n",
       "   'Subsection No.': '67.'}},\n",
       " {'text': '92.The President may make rules for the conduct of business between the Council and Parliament and between the Council and any authority empowered to make subsidiary legislation, and generally for carrying out the purposes of this Part.',\n",
       "  'metadata': {'Legislation': 'Constitution of the Republic of Singapore',\n",
       "   'Part No.': 'PART 7',\n",
       "   'Part Title': 'THE PRESIDENTIAL COUNCIL FOR MINORITY RIGHTS',\n",
       "   'Section Title': 'Interpretation of this Part',\n",
       "   'Subsection No.': '92.'}},\n",
       " {'text': '100.—(1)The President may refer to a tribunal consisting of not less than 3 Supreme Court Judges for its opinion any question as to the effect of any provision of this Constitution which has arisen or appears to him likely to arise.[38/2019](2)Where a reference is made to a tribunal under clause(1), it shall be the duty of the tribunal to consider and answer the question so referred as soon as may be and in any case not more than 60days after the date of such reference, and the tribunal shall certify to the President, for his information, its opinion on the question referred to it under clause(1) with reasons for its answer, and any Judge in the tribunal who differs from the opinion of the majority shall in like manner certify his opinion and his reasons.(3)The opinion of the majority of the Judges in the tribunal shall, for the purposes of this Article, be the opinion of the tribunal, and every such opinion of the tribunal shall be pronounced in open court.(4)No court shall have jurisdiction to question the opinion of any tribunal or the validity of any law, or any provision therein, the Bill for which has been the subject of a reference to a tribunal by the President under this Article.',\n",
       "  'metadata': {'Legislation': 'Constitution of the Republic of Singapore',\n",
       "   'Part No.': 'PART 8',\n",
       "   'Part Title': 'THE JUDICIARY',\n",
       "   'Section Title': 'Judicial power of Singapore',\n",
       "   'Subsection No.': '100.'}},\n",
       " {'text': '119.A Commission must make an annual report on its activities to the President and a copy of every annual report must be presented to Parliament.[Act 32 of 2021 wef 14/01/2022]',\n",
       "  'metadata': {'Legislation': 'Constitution of the Republic of Singapore',\n",
       "   'Part No.': 'PART 9',\n",
       "   'Part Title': 'THE PUBLIC SERVICE',\n",
       "   'Section Title': 'Public services',\n",
       "   'Subsection No.': '119.'}},\n",
       " {'text': '141.—(1)The Singapore Citizenship Ordinance1957 (Ord. 35 of 1957) is hereby repealed.(2)Any person who immediately before 16 September 1963 was, by virtue of the Singapore Citizenship Ordinance1957, a citizen of Singapore by birth, descent, registration or naturalisation, shall as from that date continue, subject to the provisions of this Constitution, to possess that status.(3)Where a person would have been a citizen of Singapore by descent immediately before 16 September 1963 if his birth had been registered under the provisions of the Singapore Citizenship Ordinance1957, he shall become a citizen of Singapore by descent if his birth is registered at a consulate of Singapore or with the Government in the prescribed manner within one year of its occurrence or, with the permission of the Government, later.(4)Notwithstanding the repeal of the Singapore Citizenship Ordinance1957, where a person who has become a citizen of Singapore was liable in respect of things done before 16 September 1963 to be deprived of that status under the Ordinance, then the Government may, by order, deprive him of his citizenship, if proceedings for that purpose are begun during the period of 2years after that date.(5)Where a person is liable to be deprived of citizenship under clause(4) and proceedings had before 16 September 1963 been begun to deprive him of citizenship of Singapore under the provisions of the Singapore Citizenship Ordinance1957, those proceedings shall be treated as proceedings to deprive him of citizenship under that clause and shall be continued as such in accordance with the provisions of the Singapore Citizenship Ordinance1957 in force immediately before that date.',\n",
       "  'metadata': {'Legislation': 'Constitution of the Republic of Singapore',\n",
       "   'Part No.': 'PART 10',\n",
       "   'Part Title': 'CITIZENSHIP',\n",
       "   'Section Title': 'Status of citizen of Singapore',\n",
       "   'Subsection No.': '141.'}},\n",
       " {'text': '148I.—(1)Notwithstanding any provision in this Part, a proposed transfer or transfer (whether by or under any written law or otherwise) by the Government of any of its reserves to—(a)a Government company specified in Part2 of the FifthSchedule (referred to in this clause and clause (2) as the transferee company); or(b)a statutory board specified in Part1 of the FifthSchedule (referred to in this clause and clause(2) as the transferee board),shall not be taken into account in determining whether the reserves accumulated by the Government before its current term of office are likely to be or have been drawn on if—(i)in the case of a proposed transfer or transfer of reserves by the Government to a transferee company— the board of directors of the transferee company by resolution resolves that those reserves of the Government shall be added to the reserves accumulated by the transferee company before the current term of office of the Government; or(ii)in the case of a proposed transfer or transfer of reserves by the Government to a transferee board— the transferee board by resolution resolves, or any written law provides, that those reserves of the Government shall be added to the reserves accumulated by the transferee board before the current term of office of the Government.[12/2004](2)Any reserves transferred by the Government together with or under any undertaking, resolution or written law referred to in clause(1) shall be deemed to form part of the reserves accumulated by the transferee company or (as the case may be) transferee board before the current term of office of the Government as follows:(a)where the Supply Bill for any financial year provides for the proposed transfer of reserves and the Supply Bill is assented to by the President— at the beginning of that financial year;(b)where a Supplementary Supply Bill provides for the proposed transfer and the Bill is assented to by the President— on the date of such assent by the President; or(c)in any other case — on the date those reserves are so transferred.[12/2004]',\n",
       "  'metadata': {'Legislation': 'Constitution of the Republic of Singapore',\n",
       "   'Part No.': 'PART 11',\n",
       "   'Part Title': 'FINANCIAL PROVISIONS',\n",
       "   'Section Title': 'Interpretation of this Part',\n",
       "   'Subsection No.': '148I.'}},\n",
       " {'text': '151A.—(1)Articles22B(7), 22D(6), 148G(2) and (3) and 148H shall not apply to any defence and security measure.(2)For the purposes of clause (1), a defence and security measure means any liability or proposed transaction which the Prime Minister and the Minister responsible for defence, on the recommendations of the Permanent Secretary to the Ministry of Defence and the Chief of Defence Force, certify to be necessary for the defence and security of Singapore, and any certificate under the hands of the Prime Minister and the Minister responsible for defence shall be conclusive evidence of the matters specified therein.',\n",
       "  'metadata': {'Legislation': 'Constitution of the Republic of Singapore',\n",
       "   'Part No.': 'PART 12',\n",
       "   'Part Title': 'SPECIAL POWERS AGAINST SUBVERSION AND EMERGENCY POWERS',\n",
       "   'Section Title': 'Legislation against subversion',\n",
       "   'Subsection No.': '151A.'}},\n",
       " {'text': '156.—(1)The Legislature may, by law, define, regulate, protect, safeguard, support, foster and promote the institution of marriage.(2)Subject to any written law, the Government and any public authority may, in the exercise of their executive authority, protect, safeguard, support, foster and promote the institution of marriage.(3)Nothing in Part 4 invalidates a law enacted before, on or after the date of commencement of the Constitution of the Republic of Singapore (Amendment No. 3) Act 2022 by reason that the law —(a)defines marriage as a union between a man and a woman; or(b)is based on such a definition of marriage.(4)Nothing in Part 4 invalidates an exercise of executive authority before, on or after the date of commencement of the Constitution of the Republic of Singapore (Amendment No. 3) Act 2022 by reason that the exercise is based on a definition of marriage as a union between a man and a woman.[Act 40 of 2022 wef 03/01/2023]',\n",
       "  'metadata': {'Legislation': 'Constitution of the Republic of Singapore',\n",
       "   'Part No.': 'PART 13',\n",
       "   'Part Title': 'GENERAL PROVISIONS',\n",
       "   'Section Title': 'Minorities and special position of Malays',\n",
       "   'Subsection No.': '156.'}},\n",
       " {'text': '166.—(1)A person who holds office as a Judge of Appeal immediately before the date of commencement of the Constitution of the Republic of Singapore (Amendment) Act2019 is, from that date—(a)if the person was appointed as a Judge of Appeal under Article95(1), to hold office as a Justice of the Court of Appeal in accordance with Article98; and(b)if the person was appointed as a Judge of Appeal for a specified period under Article95(2), to hold office as a Justice of the Court of Appeal in accordance with Article98 for the remainder of that period.[38/2019](2)A person who ceased to be a Judge of Appeal before the date of commencement of the Constitution of the Republic of Singapore (Amendment) Act2019 is, on or after that date, to be treated—(a)for the purposes of Article95(2) and (4)(b), as a person who has ceased to be a Supreme Court Judge; and(b)for the purposes of Article98(4), as a person who has held office as a Supreme Court Judge.[38/2019]',\n",
       "  'metadata': {'Legislation': 'Constitution of the Republic of Singapore',\n",
       "   'Part No.': 'PART 14',\n",
       "   'Part Title': 'TRANSITIONAL PROVISIONS',\n",
       "   'Section Title': 'Existing Standing Orders',\n",
       "   'Subsection No.': '166.'}}]"
      ]
     },
     "execution_count": 5,
     "metadata": {},
     "output_type": "execute_result"
    }
   ],
   "source": [
    "documents"
   ]
  },
  {
   "cell_type": "code",
   "execution_count": 6,
   "id": "c47b70eb",
   "metadata": {},
   "outputs": [],
   "source": [
    "embed = OllamaEmbeddings(\n",
    "    model=\"mxbai-embed-large\"\n",
    ")"
   ]
  },
  {
   "cell_type": "code",
   "execution_count": 7,
   "id": "4db47635",
   "metadata": {},
   "outputs": [],
   "source": [
    "class ollamaEmbeddings(Embeddings):\n",
    "    def __init__(self, model):\n",
    "        self.model = model\n",
    "\n",
    "    def embed_documents(self, texts):\n",
    "        \"\"\"Embed search docs.\"\"\"\n",
    "        return [self.model.embed_query(text) for text in texts]\n",
    "\n",
    "    def embed_query(self, text):\n",
    "        \"\"\"Embed query text.\"\"\"\n",
    "        return self.model.embed_query(text)"
   ]
  },
  {
   "cell_type": "code",
   "execution_count": 8,
   "id": "7f525207",
   "metadata": {},
   "outputs": [],
   "source": [
    "documents2 = [Document(page_content=doc['text'], metadata=doc['metadata']) for doc in documents]\n",
    "text_splitter = RecursiveCharacterTextSplitter(\n",
    "    chunk_size=512,\n",
    "    chunk_overlap=128,\n",
    "    length_function=len\n",
    ")\n",
    "documents2 = text_splitter.split_documents(documents2)"
   ]
  },
  {
   "cell_type": "code",
   "execution_count": 9,
   "id": "f3b92525",
   "metadata": {},
   "outputs": [],
   "source": [
    "vectorstore = FAISS.from_documents(documents2, embed)"
   ]
  },
  {
   "cell_type": "code",
   "execution_count": 10,
   "id": "a88dc684",
   "metadata": {},
   "outputs": [],
   "source": [
    "vectorstore.save_local(\"faiss_index_constitution\")"
   ]
  },
  {
   "cell_type": "code",
   "execution_count": null,
   "id": "90bc38a1",
   "metadata": {},
   "outputs": [],
   "source": []
  }
 ],
 "metadata": {
  "kernelspec": {
   "display_name": "myVenv",
   "language": "python",
   "name": "python3"
  },
  "language_info": {
   "codemirror_mode": {
    "name": "ipython",
    "version": 3
   },
   "file_extension": ".py",
   "mimetype": "text/x-python",
   "name": "python",
   "nbconvert_exporter": "python",
   "pygments_lexer": "ipython3",
   "version": "3.10.6"
  }
 },
 "nbformat": 4,
 "nbformat_minor": 5
}
